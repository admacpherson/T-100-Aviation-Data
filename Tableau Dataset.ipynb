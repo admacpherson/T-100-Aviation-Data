{
 "cells": [
  {
   "cell_type": "markdown",
   "id": "6e28faaf",
   "metadata": {},
   "source": [
    "<h2>Setup & Import</h2>"
   ]
  },
  {
   "cell_type": "code",
   "execution_count": 1,
   "id": "7fbe45f6",
   "metadata": {},
   "outputs": [],
   "source": [
    "import pandas as pd\n",
    "import numpy as np"
   ]
  },
  {
   "cell_type": "code",
   "execution_count": 2,
   "id": "228cd405",
   "metadata": {},
   "outputs": [],
   "source": [
    "# Show all columns when displaying df\n",
    "pd.set_option('display.max_columns', None)"
   ]
  },
  {
   "cell_type": "code",
   "execution_count": 3,
   "id": "95c17370",
   "metadata": {},
   "outputs": [
    {
     "ename": "FileNotFoundError",
     "evalue": "[Errno 2] No such file or directory: 'data/T_T100_SEGMENT_ALL_CARRIER.csv'",
     "output_type": "error",
     "traceback": [
      "\u001b[0;31m---------------------------------------------------------------------------\u001b[0m",
      "\u001b[0;31mFileNotFoundError\u001b[0m                         Traceback (most recent call last)",
      "\u001b[0;32m/var/folders/s2/4l6mghkx3073xff1c014mjp40000gn/T/ipykernel_4319/2239934440.py\u001b[0m in \u001b[0;36m<module>\u001b[0;34m\u001b[0m\n\u001b[1;32m      1\u001b[0m \u001b[0;31m# Import data and setup dataframe\u001b[0m\u001b[0;34m\u001b[0m\u001b[0;34m\u001b[0m\u001b[0;34m\u001b[0m\u001b[0m\n\u001b[0;32m----> 2\u001b[0;31m \u001b[0mdf\u001b[0m \u001b[0;34m=\u001b[0m \u001b[0mpd\u001b[0m\u001b[0;34m.\u001b[0m\u001b[0mread_csv\u001b[0m\u001b[0;34m(\u001b[0m\u001b[0;34m'data/T_T100_SEGMENT_ALL_CARRIER.csv'\u001b[0m\u001b[0;34m)\u001b[0m\u001b[0;34m\u001b[0m\u001b[0;34m\u001b[0m\u001b[0m\n\u001b[0m",
      "\u001b[0;32m/opt/anaconda3/lib/python3.7/site-packages/pandas/util/_decorators.py\u001b[0m in \u001b[0;36mwrapper\u001b[0;34m(*args, **kwargs)\u001b[0m\n\u001b[1;32m    309\u001b[0m                     \u001b[0mstacklevel\u001b[0m\u001b[0;34m=\u001b[0m\u001b[0mstacklevel\u001b[0m\u001b[0;34m,\u001b[0m\u001b[0;34m\u001b[0m\u001b[0;34m\u001b[0m\u001b[0m\n\u001b[1;32m    310\u001b[0m                 )\n\u001b[0;32m--> 311\u001b[0;31m             \u001b[0;32mreturn\u001b[0m \u001b[0mfunc\u001b[0m\u001b[0;34m(\u001b[0m\u001b[0;34m*\u001b[0m\u001b[0margs\u001b[0m\u001b[0;34m,\u001b[0m \u001b[0;34m**\u001b[0m\u001b[0mkwargs\u001b[0m\u001b[0;34m)\u001b[0m\u001b[0;34m\u001b[0m\u001b[0;34m\u001b[0m\u001b[0m\n\u001b[0m\u001b[1;32m    312\u001b[0m \u001b[0;34m\u001b[0m\u001b[0m\n\u001b[1;32m    313\u001b[0m         \u001b[0;32mreturn\u001b[0m \u001b[0mwrapper\u001b[0m\u001b[0;34m\u001b[0m\u001b[0;34m\u001b[0m\u001b[0m\n",
      "\u001b[0;32m/opt/anaconda3/lib/python3.7/site-packages/pandas/io/parsers/readers.py\u001b[0m in \u001b[0;36mread_csv\u001b[0;34m(filepath_or_buffer, sep, delimiter, header, names, index_col, usecols, squeeze, prefix, mangle_dupe_cols, dtype, engine, converters, true_values, false_values, skipinitialspace, skiprows, skipfooter, nrows, na_values, keep_default_na, na_filter, verbose, skip_blank_lines, parse_dates, infer_datetime_format, keep_date_col, date_parser, dayfirst, cache_dates, iterator, chunksize, compression, thousands, decimal, lineterminator, quotechar, quoting, doublequote, escapechar, comment, encoding, encoding_errors, dialect, error_bad_lines, warn_bad_lines, on_bad_lines, delim_whitespace, low_memory, memory_map, float_precision, storage_options)\u001b[0m\n\u001b[1;32m    584\u001b[0m     \u001b[0mkwds\u001b[0m\u001b[0;34m.\u001b[0m\u001b[0mupdate\u001b[0m\u001b[0;34m(\u001b[0m\u001b[0mkwds_defaults\u001b[0m\u001b[0;34m)\u001b[0m\u001b[0;34m\u001b[0m\u001b[0;34m\u001b[0m\u001b[0m\n\u001b[1;32m    585\u001b[0m \u001b[0;34m\u001b[0m\u001b[0m\n\u001b[0;32m--> 586\u001b[0;31m     \u001b[0;32mreturn\u001b[0m \u001b[0m_read\u001b[0m\u001b[0;34m(\u001b[0m\u001b[0mfilepath_or_buffer\u001b[0m\u001b[0;34m,\u001b[0m \u001b[0mkwds\u001b[0m\u001b[0;34m)\u001b[0m\u001b[0;34m\u001b[0m\u001b[0;34m\u001b[0m\u001b[0m\n\u001b[0m\u001b[1;32m    587\u001b[0m \u001b[0;34m\u001b[0m\u001b[0m\n\u001b[1;32m    588\u001b[0m \u001b[0;34m\u001b[0m\u001b[0m\n",
      "\u001b[0;32m/opt/anaconda3/lib/python3.7/site-packages/pandas/io/parsers/readers.py\u001b[0m in \u001b[0;36m_read\u001b[0;34m(filepath_or_buffer, kwds)\u001b[0m\n\u001b[1;32m    480\u001b[0m \u001b[0;34m\u001b[0m\u001b[0m\n\u001b[1;32m    481\u001b[0m     \u001b[0;31m# Create the parser.\u001b[0m\u001b[0;34m\u001b[0m\u001b[0;34m\u001b[0m\u001b[0;34m\u001b[0m\u001b[0m\n\u001b[0;32m--> 482\u001b[0;31m     \u001b[0mparser\u001b[0m \u001b[0;34m=\u001b[0m \u001b[0mTextFileReader\u001b[0m\u001b[0;34m(\u001b[0m\u001b[0mfilepath_or_buffer\u001b[0m\u001b[0;34m,\u001b[0m \u001b[0;34m**\u001b[0m\u001b[0mkwds\u001b[0m\u001b[0;34m)\u001b[0m\u001b[0;34m\u001b[0m\u001b[0;34m\u001b[0m\u001b[0m\n\u001b[0m\u001b[1;32m    483\u001b[0m \u001b[0;34m\u001b[0m\u001b[0m\n\u001b[1;32m    484\u001b[0m     \u001b[0;32mif\u001b[0m \u001b[0mchunksize\u001b[0m \u001b[0;32mor\u001b[0m \u001b[0miterator\u001b[0m\u001b[0;34m:\u001b[0m\u001b[0;34m\u001b[0m\u001b[0;34m\u001b[0m\u001b[0m\n",
      "\u001b[0;32m/opt/anaconda3/lib/python3.7/site-packages/pandas/io/parsers/readers.py\u001b[0m in \u001b[0;36m__init__\u001b[0;34m(self, f, engine, **kwds)\u001b[0m\n\u001b[1;32m    809\u001b[0m             \u001b[0mself\u001b[0m\u001b[0;34m.\u001b[0m\u001b[0moptions\u001b[0m\u001b[0;34m[\u001b[0m\u001b[0;34m\"has_index_names\"\u001b[0m\u001b[0;34m]\u001b[0m \u001b[0;34m=\u001b[0m \u001b[0mkwds\u001b[0m\u001b[0;34m[\u001b[0m\u001b[0;34m\"has_index_names\"\u001b[0m\u001b[0;34m]\u001b[0m\u001b[0;34m\u001b[0m\u001b[0;34m\u001b[0m\u001b[0m\n\u001b[1;32m    810\u001b[0m \u001b[0;34m\u001b[0m\u001b[0m\n\u001b[0;32m--> 811\u001b[0;31m         \u001b[0mself\u001b[0m\u001b[0;34m.\u001b[0m\u001b[0m_engine\u001b[0m \u001b[0;34m=\u001b[0m \u001b[0mself\u001b[0m\u001b[0;34m.\u001b[0m\u001b[0m_make_engine\u001b[0m\u001b[0;34m(\u001b[0m\u001b[0mself\u001b[0m\u001b[0;34m.\u001b[0m\u001b[0mengine\u001b[0m\u001b[0;34m)\u001b[0m\u001b[0;34m\u001b[0m\u001b[0;34m\u001b[0m\u001b[0m\n\u001b[0m\u001b[1;32m    812\u001b[0m \u001b[0;34m\u001b[0m\u001b[0m\n\u001b[1;32m    813\u001b[0m     \u001b[0;32mdef\u001b[0m \u001b[0mclose\u001b[0m\u001b[0;34m(\u001b[0m\u001b[0mself\u001b[0m\u001b[0;34m)\u001b[0m\u001b[0;34m:\u001b[0m\u001b[0;34m\u001b[0m\u001b[0;34m\u001b[0m\u001b[0m\n",
      "\u001b[0;32m/opt/anaconda3/lib/python3.7/site-packages/pandas/io/parsers/readers.py\u001b[0m in \u001b[0;36m_make_engine\u001b[0;34m(self, engine)\u001b[0m\n\u001b[1;32m   1038\u001b[0m             )\n\u001b[1;32m   1039\u001b[0m         \u001b[0;31m# error: Too many arguments for \"ParserBase\"\u001b[0m\u001b[0;34m\u001b[0m\u001b[0;34m\u001b[0m\u001b[0;34m\u001b[0m\u001b[0m\n\u001b[0;32m-> 1040\u001b[0;31m         \u001b[0;32mreturn\u001b[0m \u001b[0mmapping\u001b[0m\u001b[0;34m[\u001b[0m\u001b[0mengine\u001b[0m\u001b[0;34m]\u001b[0m\u001b[0;34m(\u001b[0m\u001b[0mself\u001b[0m\u001b[0;34m.\u001b[0m\u001b[0mf\u001b[0m\u001b[0;34m,\u001b[0m \u001b[0;34m**\u001b[0m\u001b[0mself\u001b[0m\u001b[0;34m.\u001b[0m\u001b[0moptions\u001b[0m\u001b[0;34m)\u001b[0m  \u001b[0;31m# type: ignore[call-arg]\u001b[0m\u001b[0;34m\u001b[0m\u001b[0;34m\u001b[0m\u001b[0m\n\u001b[0m\u001b[1;32m   1041\u001b[0m \u001b[0;34m\u001b[0m\u001b[0m\n\u001b[1;32m   1042\u001b[0m     \u001b[0;32mdef\u001b[0m \u001b[0m_failover_to_python\u001b[0m\u001b[0;34m(\u001b[0m\u001b[0mself\u001b[0m\u001b[0;34m)\u001b[0m\u001b[0;34m:\u001b[0m\u001b[0;34m\u001b[0m\u001b[0;34m\u001b[0m\u001b[0m\n",
      "\u001b[0;32m/opt/anaconda3/lib/python3.7/site-packages/pandas/io/parsers/c_parser_wrapper.py\u001b[0m in \u001b[0;36m__init__\u001b[0;34m(self, src, **kwds)\u001b[0m\n\u001b[1;32m     49\u001b[0m \u001b[0;34m\u001b[0m\u001b[0m\n\u001b[1;32m     50\u001b[0m         \u001b[0;31m# open handles\u001b[0m\u001b[0;34m\u001b[0m\u001b[0;34m\u001b[0m\u001b[0;34m\u001b[0m\u001b[0m\n\u001b[0;32m---> 51\u001b[0;31m         \u001b[0mself\u001b[0m\u001b[0;34m.\u001b[0m\u001b[0m_open_handles\u001b[0m\u001b[0;34m(\u001b[0m\u001b[0msrc\u001b[0m\u001b[0;34m,\u001b[0m \u001b[0mkwds\u001b[0m\u001b[0;34m)\u001b[0m\u001b[0;34m\u001b[0m\u001b[0;34m\u001b[0m\u001b[0m\n\u001b[0m\u001b[1;32m     52\u001b[0m         \u001b[0;32massert\u001b[0m \u001b[0mself\u001b[0m\u001b[0;34m.\u001b[0m\u001b[0mhandles\u001b[0m \u001b[0;32mis\u001b[0m \u001b[0;32mnot\u001b[0m \u001b[0;32mNone\u001b[0m\u001b[0;34m\u001b[0m\u001b[0;34m\u001b[0m\u001b[0m\n\u001b[1;32m     53\u001b[0m \u001b[0;34m\u001b[0m\u001b[0m\n",
      "\u001b[0;32m/opt/anaconda3/lib/python3.7/site-packages/pandas/io/parsers/base_parser.py\u001b[0m in \u001b[0;36m_open_handles\u001b[0;34m(self, src, kwds)\u001b[0m\n\u001b[1;32m    227\u001b[0m             \u001b[0mmemory_map\u001b[0m\u001b[0;34m=\u001b[0m\u001b[0mkwds\u001b[0m\u001b[0;34m.\u001b[0m\u001b[0mget\u001b[0m\u001b[0;34m(\u001b[0m\u001b[0;34m\"memory_map\"\u001b[0m\u001b[0;34m,\u001b[0m \u001b[0;32mFalse\u001b[0m\u001b[0;34m)\u001b[0m\u001b[0;34m,\u001b[0m\u001b[0;34m\u001b[0m\u001b[0;34m\u001b[0m\u001b[0m\n\u001b[1;32m    228\u001b[0m             \u001b[0mstorage_options\u001b[0m\u001b[0;34m=\u001b[0m\u001b[0mkwds\u001b[0m\u001b[0;34m.\u001b[0m\u001b[0mget\u001b[0m\u001b[0;34m(\u001b[0m\u001b[0;34m\"storage_options\"\u001b[0m\u001b[0;34m,\u001b[0m \u001b[0;32mNone\u001b[0m\u001b[0;34m)\u001b[0m\u001b[0;34m,\u001b[0m\u001b[0;34m\u001b[0m\u001b[0;34m\u001b[0m\u001b[0m\n\u001b[0;32m--> 229\u001b[0;31m             \u001b[0merrors\u001b[0m\u001b[0;34m=\u001b[0m\u001b[0mkwds\u001b[0m\u001b[0;34m.\u001b[0m\u001b[0mget\u001b[0m\u001b[0;34m(\u001b[0m\u001b[0;34m\"encoding_errors\"\u001b[0m\u001b[0;34m,\u001b[0m \u001b[0;34m\"strict\"\u001b[0m\u001b[0;34m)\u001b[0m\u001b[0;34m,\u001b[0m\u001b[0;34m\u001b[0m\u001b[0;34m\u001b[0m\u001b[0m\n\u001b[0m\u001b[1;32m    230\u001b[0m         )\n\u001b[1;32m    231\u001b[0m \u001b[0;34m\u001b[0m\u001b[0m\n",
      "\u001b[0;32m/opt/anaconda3/lib/python3.7/site-packages/pandas/io/common.py\u001b[0m in \u001b[0;36mget_handle\u001b[0;34m(path_or_buf, mode, encoding, compression, memory_map, is_text, errors, storage_options)\u001b[0m\n\u001b[1;32m    705\u001b[0m                 \u001b[0mencoding\u001b[0m\u001b[0;34m=\u001b[0m\u001b[0mioargs\u001b[0m\u001b[0;34m.\u001b[0m\u001b[0mencoding\u001b[0m\u001b[0;34m,\u001b[0m\u001b[0;34m\u001b[0m\u001b[0;34m\u001b[0m\u001b[0m\n\u001b[1;32m    706\u001b[0m                 \u001b[0merrors\u001b[0m\u001b[0;34m=\u001b[0m\u001b[0merrors\u001b[0m\u001b[0;34m,\u001b[0m\u001b[0;34m\u001b[0m\u001b[0;34m\u001b[0m\u001b[0m\n\u001b[0;32m--> 707\u001b[0;31m                 \u001b[0mnewline\u001b[0m\u001b[0;34m=\u001b[0m\u001b[0;34m\"\"\u001b[0m\u001b[0;34m,\u001b[0m\u001b[0;34m\u001b[0m\u001b[0;34m\u001b[0m\u001b[0m\n\u001b[0m\u001b[1;32m    708\u001b[0m             )\n\u001b[1;32m    709\u001b[0m         \u001b[0;32melse\u001b[0m\u001b[0;34m:\u001b[0m\u001b[0;34m\u001b[0m\u001b[0;34m\u001b[0m\u001b[0m\n",
      "\u001b[0;31mFileNotFoundError\u001b[0m: [Errno 2] No such file or directory: 'data/T_T100_SEGMENT_ALL_CARRIER.csv'"
     ]
    }
   ],
   "source": [
    "# Import data and setup dataframe\n",
    "df = pd.read_csv('data/T_T100_SEGMENT_ALL_CARRIER.csv')"
   ]
  },
  {
   "cell_type": "code",
   "execution_count": null,
   "id": "a369430b",
   "metadata": {},
   "outputs": [],
   "source": [
    "# Import lookup tables\n",
    "carrier_classes = pd.read_csv('data/L_CARRIER_GROUP_NEW.csv')\n",
    "area_codes_table = pd.read_csv('data/L_WORLD_AREA_CODES.csv')\n",
    "aircraft_types = pd.read_csv('data/L_AIRCRAFT_TYPE.csv')\n",
    "city_markets = pd.read_csv('data/L_CITY_MARKET_ID.csv')\n",
    "service_classes = pd.read_csv('data/L_SERVICE_CLASS.csv')\n",
    "aircraft_configs = pd.read_csv('data/L_AIRCRAFT_CONFIG.csv')\n",
    "aircraft_groups = pd.read_csv('data/L_AIRCRAFT_GROUP.csv')\n",
    "airport_coords = pd.read_csv('data/T_MASTER_CORD.csv')"
   ]
  },
  {
   "cell_type": "markdown",
   "id": "49a0d80b",
   "metadata": {},
   "source": [
    "<h2>Data Cleaning</h2>"
   ]
  },
  {
   "cell_type": "markdown",
   "id": "5dd3025b",
   "metadata": {},
   "source": [
    "<h4>Carrier Classes</h4>"
   ]
  },
  {
   "cell_type": "code",
   "execution_count": null,
   "id": "323f5b90",
   "metadata": {},
   "outputs": [],
   "source": [
    "# Create simplified list of carrier class descriptions\n",
    "carrier_classes_modified = []\n",
    "for carrier_type in carrier_classes['Description']:\n",
    "    index = carrier_type.index('Carrier')\n",
    "    substr = carrier_type[:index-1]\n",
    "    carrier_classes_modified.append(substr)\n",
    "\n",
    "carrier_classes['Carrier Class'] = carrier_classes_modified"
   ]
  },
  {
   "cell_type": "code",
   "execution_count": null,
   "id": "e7617b75",
   "metadata": {},
   "outputs": [],
   "source": [
    "#Inspect updated carrier_classes\n",
    "carrier_classes"
   ]
  },
  {
   "cell_type": "code",
   "execution_count": null,
   "id": "d7dbb193",
   "metadata": {},
   "outputs": [],
   "source": [
    "# Replace carrier groups with descriptions from modified lookup table\n",
    "df = df.merge(carrier_classes, left_on='CARRIER_GROUP_NEW', right_on='Code', how='left')\n",
    "df = df.drop(columns=['Code', 'Description', 'CARRIER_GROUP_NEW'])"
   ]
  },
  {
   "cell_type": "markdown",
   "id": "e7ecf5e3",
   "metadata": {},
   "source": [
    "<h4>World Area Codes (WAC)</h4>"
   ]
  },
  {
   "cell_type": "code",
   "execution_count": null,
   "id": "eb7a18b7",
   "metadata": {},
   "outputs": [],
   "source": [
    "# Replace WAC code with descriptions from lookup table\n",
    "df = df.merge(area_codes_table, left_on='ORIGIN_WAC', right_on='Code', how='left')\n",
    "df['ORIGIN_WAC'] = df['Description']\n",
    "df = df.drop(columns=['Code', 'Description'])\n",
    "\n",
    "df = df.merge(area_codes_table, left_on='DEST_WAC', right_on='Code', how='left')\n",
    "df['DEST_WAC'] = df['Description']\n",
    "df = df.drop(columns=['Code', 'Description'])"
   ]
  },
  {
   "cell_type": "markdown",
   "id": "5f601cbb",
   "metadata": {},
   "source": [
    "<h4>Aircraft type</h4>"
   ]
  },
  {
   "cell_type": "code",
   "execution_count": null,
   "id": "452d7f94",
   "metadata": {},
   "outputs": [],
   "source": [
    "# Preview aircraft_types\n",
    "aircraft_types.head()"
   ]
  },
  {
   "cell_type": "code",
   "execution_count": null,
   "id": "7c8d4a47",
   "metadata": {},
   "outputs": [],
   "source": [
    "# Replace aircraft type code with descriptions from lookup table\n",
    "df = df.merge(aircraft_types, left_on='AIRCRAFT_TYPE', right_on='Code', how='left')\n",
    "df['AIRCRAFT_TYPE'] = df['Description']\n",
    "df = df.drop(columns=['Code', 'Description'])"
   ]
  },
  {
   "cell_type": "markdown",
   "id": "a4a6256d",
   "metadata": {},
   "source": [
    "<h4>City Markets</h4>"
   ]
  },
  {
   "cell_type": "code",
   "execution_count": null,
   "id": "94e57459",
   "metadata": {},
   "outputs": [],
   "source": [
    "# Preview city_markets\n",
    "city_markets.head()"
   ]
  },
  {
   "cell_type": "code",
   "execution_count": null,
   "id": "f5bea332",
   "metadata": {},
   "outputs": [],
   "source": [
    "# Replace city market codes with descriptions from lookup table\n",
    "df = df.merge(city_markets, left_on='ORIGIN_CITY_MARKET_ID', right_on='Code', how='left')\n",
    "df['ORIGIN_CITY_MARKET_ID'] = df['Description']\n",
    "df = df.drop(columns=['Code', 'Description'])\n",
    "\n",
    "df = df.merge(city_markets, left_on='DEST_CITY_MARKET_ID', right_on='Code', how='left')\n",
    "df['DEST_CITY_MARKET_ID'] = df['Description']\n",
    "df = df.drop(columns=['Code', 'Description'])"
   ]
  },
  {
   "cell_type": "markdown",
   "id": "5bdce800",
   "metadata": {},
   "source": [
    "<h4>Service Classes</h4>"
   ]
  },
  {
   "cell_type": "code",
   "execution_count": null,
   "id": "e4a78e47",
   "metadata": {},
   "outputs": [],
   "source": [
    "# Preview service_classes\n",
    "service_classes.head()"
   ]
  },
  {
   "cell_type": "code",
   "execution_count": null,
   "id": "b681ac49",
   "metadata": {},
   "outputs": [],
   "source": [
    "# Replace service class code with descriptions from lookup table\n",
    "df = df.merge(service_classes, left_on='CLASS', right_on='Code', how='left')\n",
    "df['CLASS'] = df['Description']\n",
    "df = df.drop(columns=['Code', 'Description'])"
   ]
  },
  {
   "cell_type": "markdown",
   "id": "6efbcf14",
   "metadata": {},
   "source": [
    "<h4>Aircraft Configs</h4>"
   ]
  },
  {
   "cell_type": "code",
   "execution_count": null,
   "id": "b98c7dd6",
   "metadata": {},
   "outputs": [],
   "source": [
    "# Preview aircraft_configs\n",
    "aircraft_configs.head()"
   ]
  },
  {
   "cell_type": "code",
   "execution_count": null,
   "id": "ea89f409",
   "metadata": {},
   "outputs": [],
   "source": [
    "# Replace aircraft config code with descriptions from lookup table\n",
    "df = df.merge(aircraft_configs, left_on='AIRCRAFT_CONFIG', right_on='Code', how='left')\n",
    "df['AIRCRAFT_CONFIG'] = df['Description']\n",
    "df = df.drop(columns=['Code', 'Description'])"
   ]
  },
  {
   "cell_type": "markdown",
   "id": "deb55156",
   "metadata": {},
   "source": [
    "<h4>Aircraft Groups</h4>"
   ]
  },
  {
   "cell_type": "code",
   "execution_count": null,
   "id": "ce38c817",
   "metadata": {},
   "outputs": [],
   "source": [
    "# Preview aircraft_groups\n",
    "aircraft_groups.head()"
   ]
  },
  {
   "cell_type": "code",
   "execution_count": null,
   "id": "1e632c4a",
   "metadata": {},
   "outputs": [],
   "source": [
    "# Replace aircraft group code with descriptions from lookup table\n",
    "df = df.merge(aircraft_groups, left_on='AIRCRAFT_GROUP', right_on='Code', how='left')\n",
    "df['AIRCRAFT_GROUP'] = df['Description']\n",
    "df = df.drop(columns=['Code', 'Description'])"
   ]
  },
  {
   "cell_type": "markdown",
   "id": "fcd6d134",
   "metadata": {},
   "source": [
    "<h3>Add Load Factor Calculation</h3>"
   ]
  },
  {
   "cell_type": "code",
   "execution_count": null,
   "id": "bc1d953a",
   "metadata": {},
   "outputs": [],
   "source": [
    "#Add Load Factor column on flight level\n",
    "df['Load Factor'] = df['PASSENGERS'] / df['SEATS']\n",
    "df['Load Factor'] = df['Load Factor'].fillna(0)"
   ]
  },
  {
   "cell_type": "markdown",
   "id": "6de3a0c2",
   "metadata": {},
   "source": [
    "<h3>Add Lattitude/Longitude Coordinates</h3>"
   ]
  },
  {
   "cell_type": "code",
   "execution_count": null,
   "id": "c471206e",
   "metadata": {},
   "outputs": [],
   "source": [
    "airport_coords.head()"
   ]
  },
  {
   "cell_type": "code",
   "execution_count": null,
   "id": "92a3ec27",
   "metadata": {},
   "outputs": [],
   "source": [
    "df = df.merge(airport_coords, left_on='ORIGIN', right_on='AIRPORT', how='left')\n",
    "df['ORIGIN_LATITUDE'] = df['LATITUDE']\n",
    "df['ORIGIN_LONGITUDE'] = df['LONGITUDE']\n",
    "df = df.drop(columns=['AIRPORT', 'DISPLAY_AIRPORT_NAME', 'LATITUDE', 'LONGITUDE'])\n",
    "\n",
    "df = df.merge(airport_coords, left_on='DEST', right_on='AIRPORT', how='left')\n",
    "df['DEST_LATITUDE'] = df['LATITUDE']\n",
    "df['DEST_LONGITUDE'] = df['LONGITUDE']\n",
    "df = df.drop(columns=['AIRPORT', 'DISPLAY_AIRPORT_NAME', 'LATITUDE', 'LONGITUDE'])"
   ]
  },
  {
   "cell_type": "markdown",
   "id": "7cd907f6",
   "metadata": {},
   "source": [
    "<h3>Drop 0 departures performed</h3>"
   ]
  },
  {
   "cell_type": "code",
   "execution_count": null,
   "id": "ad62448b",
   "metadata": {},
   "outputs": [],
   "source": [
    "df.shape"
   ]
  },
  {
   "cell_type": "code",
   "execution_count": null,
   "id": "df75e12f",
   "metadata": {},
   "outputs": [],
   "source": [
    "df = df.drop(df[df.DEPARTURES_PERFORMED] < 1)"
   ]
  },
  {
   "cell_type": "code",
   "execution_count": null,
   "id": "2242b3f1",
   "metadata": {},
   "outputs": [],
   "source": [
    "df.shape"
   ]
  },
  {
   "cell_type": "markdown",
   "id": "2ce34ff8",
   "metadata": {},
   "source": [
    "<h2>Display Final Table</h2>"
   ]
  },
  {
   "cell_type": "code",
   "execution_count": null,
   "id": "884ec3a6",
   "metadata": {},
   "outputs": [],
   "source": [
    "df[:10]"
   ]
  },
  {
   "cell_type": "code",
   "execution_count": null,
   "id": "b9f8f6a7",
   "metadata": {},
   "outputs": [],
   "source": [
    "# Download to csv\n",
    "#df.to_csv('exports/T-100_Segment_Data.csv')"
   ]
  }
 ],
 "metadata": {
  "kernelspec": {
   "display_name": "Python 3 (ipykernel)",
   "language": "python",
   "name": "python3"
  },
  "language_info": {
   "codemirror_mode": {
    "name": "ipython",
    "version": 3
   },
   "file_extension": ".py",
   "mimetype": "text/x-python",
   "name": "python",
   "nbconvert_exporter": "python",
   "pygments_lexer": "ipython3",
   "version": "3.7.11"
  }
 },
 "nbformat": 4,
 "nbformat_minor": 5
}
