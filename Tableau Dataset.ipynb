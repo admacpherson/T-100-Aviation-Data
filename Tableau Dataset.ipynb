{
 "cells": [
  {
   "cell_type": "markdown",
   "id": "280d0a0b",
   "metadata": {},
   "source": [
    "<h2>Setup & Import</h2>"
   ]
  },
  {
   "cell_type": "code",
   "execution_count": 1,
   "id": "b23c6b2d",
   "metadata": {},
   "outputs": [],
   "source": [
    "import pandas as pd\n",
    "import numpy as np"
   ]
  },
  {
   "cell_type": "code",
   "execution_count": 2,
   "id": "2746c11b",
   "metadata": {},
   "outputs": [],
   "source": [
    "pd.set_option('display.max_columns', None)"
   ]
  },
  {
   "cell_type": "code",
   "execution_count": 3,
   "id": "e4be0438",
   "metadata": {},
   "outputs": [],
   "source": [
    "# Import data and setup dataframe\n",
    "df = pd.read_csv('data/T_T100_SEGMENT_ALL_CARRIER.csv')"
   ]
  },
  {
   "cell_type": "code",
   "execution_count": 12,
   "id": "e284f4f8",
   "metadata": {},
   "outputs": [],
   "source": [
    "# Import lookup tables\n",
    "carrier_classes = pd.read_csv('data/L_CARRIER_GROUP_NEW.csv')\n",
    "area_codes_table = pd.read_csv('data/L_WORLD_AREA_CODES.csv')\n",
    "aircraft_types = pd.read_csv('data/L_AIRCRAFT_TYPE.csv')\n",
    "\n",
    "city_markets = pd.read_csv('data/L_CITY_MARKET_ID.csv')\n",
    "service_classes = pd.read_csv('data/L_SERVICE_CLASS.csv')\n",
    "aircraft_groups = pd.read_csv('data/L_AIRCRAFT_GROUP.csv')\n",
    "aircraft_congifs = pd.read_csv('data/L_AIRCRAFT_CONFIG.csv')"
   ]
  },
  {
   "cell_type": "markdown",
   "id": "07513e70",
   "metadata": {},
   "source": [
    "<h2>Data Cleansing</h2>"
   ]
  },
  {
   "cell_type": "markdown",
   "id": "b6720c2b",
   "metadata": {},
   "source": [
    "<h4>Carrier Classes</h4>"
   ]
  },
  {
   "cell_type": "code",
   "execution_count": 9,
   "id": "4fac85b6",
   "metadata": {},
   "outputs": [],
   "source": [
    "# Create simplified list of carrier class descriptions\n",
    "carrier_classes_modified = []\n",
    "for carrier_type in carrier_classes['Description']:\n",
    "    index = carrier_type.index('Carrier')\n",
    "    substr = carrier_type[:index-1]\n",
    "    carrier_classes_modified.append(substr)\n",
    "\n",
    "carrier_classes['Carrier Class'] = carrier_classes_modified"
   ]
  },
  {
   "cell_type": "code",
   "execution_count": 11,
   "id": "a0bf4f50",
   "metadata": {},
   "outputs": [
    {
     "data": {
      "text/html": [
       "<div>\n",
       "<style scoped>\n",
       "    .dataframe tbody tr th:only-of-type {\n",
       "        vertical-align: middle;\n",
       "    }\n",
       "\n",
       "    .dataframe tbody tr th {\n",
       "        vertical-align: top;\n",
       "    }\n",
       "\n",
       "    .dataframe thead th {\n",
       "        text-align: right;\n",
       "    }\n",
       "</style>\n",
       "<table border=\"1\" class=\"dataframe\">\n",
       "  <thead>\n",
       "    <tr style=\"text-align: right;\">\n",
       "      <th></th>\n",
       "      <th>Code</th>\n",
       "      <th>Description</th>\n",
       "      <th>Carrier Class</th>\n",
       "    </tr>\n",
       "  </thead>\n",
       "  <tbody>\n",
       "    <tr>\n",
       "      <th>0</th>\n",
       "      <td>0</td>\n",
       "      <td>Foreign Carriers</td>\n",
       "      <td>Foreign</td>\n",
       "    </tr>\n",
       "    <tr>\n",
       "      <th>1</th>\n",
       "      <td>1</td>\n",
       "      <td>Large Regional Carriers (carriers with annual ...</td>\n",
       "      <td>Large Regional</td>\n",
       "    </tr>\n",
       "    <tr>\n",
       "      <th>2</th>\n",
       "      <td>2</td>\n",
       "      <td>National Carriers (carriers with annual revenu...</td>\n",
       "      <td>National</td>\n",
       "    </tr>\n",
       "    <tr>\n",
       "      <th>3</th>\n",
       "      <td>3</td>\n",
       "      <td>Major Carriers (carriers with annual revenue o...</td>\n",
       "      <td>Major</td>\n",
       "    </tr>\n",
       "    <tr>\n",
       "      <th>4</th>\n",
       "      <td>4</td>\n",
       "      <td>Medium Regional Carriers (carriers with annual...</td>\n",
       "      <td>Medium Regional</td>\n",
       "    </tr>\n",
       "    <tr>\n",
       "      <th>5</th>\n",
       "      <td>5</td>\n",
       "      <td>Small Certificated Carriers (carrier holding c...</td>\n",
       "      <td>Small Certificated</td>\n",
       "    </tr>\n",
       "    <tr>\n",
       "      <th>6</th>\n",
       "      <td>6</td>\n",
       "      <td>Commuter Carriers (air taxi operator which per...</td>\n",
       "      <td>Commuter</td>\n",
       "    </tr>\n",
       "    <tr>\n",
       "      <th>7</th>\n",
       "      <td>7</td>\n",
       "      <td>All Cargo Carriers operating under cerificates...</td>\n",
       "      <td>All Cargo</td>\n",
       "    </tr>\n",
       "    <tr>\n",
       "      <th>8</th>\n",
       "      <td>9</td>\n",
       "      <td>Commuter Carriers (Air Taxi providing Essentia...</td>\n",
       "      <td>Commuter</td>\n",
       "    </tr>\n",
       "  </tbody>\n",
       "</table>\n",
       "</div>"
      ],
      "text/plain": [
       "   Code                                        Description       Carrier Class\n",
       "0     0                                   Foreign Carriers             Foreign\n",
       "1     1  Large Regional Carriers (carriers with annual ...      Large Regional\n",
       "2     2  National Carriers (carriers with annual revenu...            National\n",
       "3     3  Major Carriers (carriers with annual revenue o...               Major\n",
       "4     4  Medium Regional Carriers (carriers with annual...     Medium Regional\n",
       "5     5  Small Certificated Carriers (carrier holding c...  Small Certificated\n",
       "6     6  Commuter Carriers (air taxi operator which per...            Commuter\n",
       "7     7  All Cargo Carriers operating under cerificates...           All Cargo\n",
       "8     9  Commuter Carriers (Air Taxi providing Essentia...            Commuter"
      ]
     },
     "execution_count": 11,
     "metadata": {},
     "output_type": "execute_result"
    }
   ],
   "source": [
    "#Inspect updated carrier_classes\n",
    "carrier_classes"
   ]
  },
  {
   "cell_type": "code",
   "execution_count": 7,
   "id": "8cbdaecd",
   "metadata": {},
   "outputs": [],
   "source": [
    "# Replace carrier groups with descriptions from modified lookup table\n",
    "df = df.merge(carrier_classes, left_on='CARRIER_GROUP_NEW', right_on='Code', how='left')\n",
    "df = df.drop(columns=['Code', 'Description', 'CARRIER_GROUP_NEW'])"
   ]
  },
  {
   "cell_type": "markdown",
   "id": "b340e0bd",
   "metadata": {},
   "source": [
    "<h4>World Area Codes (WAC)</h4>"
   ]
  },
  {
   "cell_type": "code",
   "execution_count": null,
   "id": "a369271e",
   "metadata": {},
   "outputs": [],
   "source": [
    "# Replace WAC with descriptions from lookup table\n",
    "df = df.merge(area_codes_table, left_on='ORIGIN_WAC', right_on='Code', how='left')\n",
    "df['ORIGIN_WAC'] = df['Description']\n",
    "df = df.drop(columns=['Code', 'Description'])\n",
    "\n",
    "df = df.merge(area_codes_table, left_on='DEST_WAC', right_on='Code', how='left')\n",
    "df['DEST_WAC'] = df['Description']\n",
    "df = df.drop(columns=['Code', 'Description'])"
   ]
  },
  {
   "cell_type": "markdown",
   "id": "9aa33933",
   "metadata": {},
   "source": [
    "<h4>Aircraft type</h4>"
   ]
  },
  {
   "cell_type": "code",
   "execution_count": 16,
   "id": "89322508",
   "metadata": {},
   "outputs": [
    {
     "data": {
      "text/html": [
       "<div>\n",
       "<style scoped>\n",
       "    .dataframe tbody tr th:only-of-type {\n",
       "        vertical-align: middle;\n",
       "    }\n",
       "\n",
       "    .dataframe tbody tr th {\n",
       "        vertical-align: top;\n",
       "    }\n",
       "\n",
       "    .dataframe thead th {\n",
       "        text-align: right;\n",
       "    }\n",
       "</style>\n",
       "<table border=\"1\" class=\"dataframe\">\n",
       "  <thead>\n",
       "    <tr style=\"text-align: right;\">\n",
       "      <th></th>\n",
       "      <th>Code</th>\n",
       "      <th>Description</th>\n",
       "    </tr>\n",
       "  </thead>\n",
       "  <tbody>\n",
       "    <tr>\n",
       "      <th>0</th>\n",
       "      <td>7</td>\n",
       "      <td>Aero Commander 200</td>\n",
       "    </tr>\n",
       "    <tr>\n",
       "      <th>1</th>\n",
       "      <td>8</td>\n",
       "      <td>Aero Macchi AL-60</td>\n",
       "    </tr>\n",
       "    <tr>\n",
       "      <th>2</th>\n",
       "      <td>9</td>\n",
       "      <td>Aeronca 7-AC</td>\n",
       "    </tr>\n",
       "    <tr>\n",
       "      <th>3</th>\n",
       "      <td>10</td>\n",
       "      <td>Beech Bonanza 35A/C/D/E/G/H/J/K/S/V/  36A</td>\n",
       "    </tr>\n",
       "    <tr>\n",
       "      <th>4</th>\n",
       "      <td>20</td>\n",
       "      <td>Bellanca CH-300</td>\n",
       "    </tr>\n",
       "    <tr>\n",
       "      <th>...</th>\n",
       "      <td>...</td>\n",
       "      <td>...</td>\n",
       "    </tr>\n",
       "    <tr>\n",
       "      <th>439</th>\n",
       "      <td>887</td>\n",
       "      <td>B787-800 Dreamliner</td>\n",
       "    </tr>\n",
       "    <tr>\n",
       "      <th>440</th>\n",
       "      <td>888</td>\n",
       "      <td>Boeing 737-900ER</td>\n",
       "    </tr>\n",
       "    <tr>\n",
       "      <th>441</th>\n",
       "      <td>889</td>\n",
       "      <td>B787-900 Dreamliner</td>\n",
       "    </tr>\n",
       "    <tr>\n",
       "      <th>442</th>\n",
       "      <td>890</td>\n",
       "      <td>Antonov 225 (6 Engine)</td>\n",
       "    </tr>\n",
       "    <tr>\n",
       "      <th>443</th>\n",
       "      <td>999</td>\n",
       "      <td>Used for capturing expenses not attributed to ...</td>\n",
       "    </tr>\n",
       "  </tbody>\n",
       "</table>\n",
       "<p>444 rows × 2 columns</p>\n",
       "</div>"
      ],
      "text/plain": [
       "     Code                                        Description\n",
       "0       7                                 Aero Commander 200\n",
       "1       8                                  Aero Macchi AL-60\n",
       "2       9                                       Aeronca 7-AC\n",
       "3      10          Beech Bonanza 35A/C/D/E/G/H/J/K/S/V/  36A\n",
       "4      20                                    Bellanca CH-300\n",
       "..    ...                                                ...\n",
       "439   887                                B787-800 Dreamliner\n",
       "440   888                                   Boeing 737-900ER\n",
       "441   889                                B787-900 Dreamliner\n",
       "442   890                             Antonov 225 (6 Engine)\n",
       "443   999  Used for capturing expenses not attributed to ...\n",
       "\n",
       "[444 rows x 2 columns]"
      ]
     },
     "execution_count": 16,
     "metadata": {},
     "output_type": "execute_result"
    }
   ],
   "source": [
    "aircraft_types"
   ]
  },
  {
   "cell_type": "code",
   "execution_count": null,
   "id": "2c022f92",
   "metadata": {},
   "outputs": [],
   "source": []
  },
  {
   "cell_type": "markdown",
   "id": "543c5fd0",
   "metadata": {},
   "source": [
    "<h2>Add Load Factor Metric</h2>"
   ]
  },
  {
   "cell_type": "code",
   "execution_count": null,
   "id": "fc133312",
   "metadata": {},
   "outputs": [],
   "source": [
    "#Add Load Factor column on flight level\n",
    "df['Load Factor'] = df['PASSENGERS'] / df['SEATS']\n",
    "df['Load Factor'] = df['Load Factor'].fillna(0)"
   ]
  },
  {
   "cell_type": "markdown",
   "id": "f4637075",
   "metadata": {},
   "source": [
    "<h2>Display Final Table</h2>"
   ]
  },
  {
   "cell_type": "code",
   "execution_count": null,
   "id": "511d8c37",
   "metadata": {},
   "outputs": [],
   "source": [
    "df[:10]"
   ]
  }
 ],
 "metadata": {
  "kernelspec": {
   "display_name": "Python 3 (ipykernel)",
   "language": "python",
   "name": "python3"
  },
  "language_info": {
   "codemirror_mode": {
    "name": "ipython",
    "version": 3
   },
   "file_extension": ".py",
   "mimetype": "text/x-python",
   "name": "python",
   "nbconvert_exporter": "python",
   "pygments_lexer": "ipython3",
   "version": "3.7.11"
  }
 },
 "nbformat": 4,
 "nbformat_minor": 5
}
